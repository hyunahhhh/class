{
 "cells": [
  {
   "cell_type": "markdown",
   "metadata": {},
   "source": [
    "# 복습"
   ]
  },
  {
   "cell_type": "code",
   "execution_count": 1,
   "metadata": {},
   "outputs": [],
   "source": [
    "import pandas as pd"
   ]
  },
  {
   "cell_type": "code",
   "execution_count": 2,
   "metadata": {},
   "outputs": [],
   "source": [
    "from pandas import Series, DataFrame"
   ]
  },
  {
   "cell_type": "code",
   "execution_count": 3,
   "metadata": {},
   "outputs": [],
   "source": [
    "import numpy as np\n",
    "np.random.seed(12345)\n",
    "import matplotlib.pyplot as plt\n",
    "plt.rc('figure', figsize=(10, 6))\n",
    "PREVIOUS_MAX_ROWS = pd.options.display.max_rows\n",
    "pd.options.display.max_rows = 20\n",
    "np.set_printoptions(precision=4, suppress=True)"
   ]
  },
  {
   "cell_type": "markdown",
   "metadata": {},
   "source": [
    "### 1. 데이터 로딩: pd.read_csv()\n",
    "\n",
    " 'datasets/exercise/insurance.csv'파일 읽어서 df에 할당하기\n",
    "\n",
    "### 2. df의 상위 5개 항목 출력\n",
    "\n",
    "### 3. df의 요약(평균, 4분위수, 전체 갯수 등)\n",
    "\n",
    "### 4. 신규 컬럼(double bmi)을 생성하고, bmi의 2배가 되는 값을 할당하기\n",
    "\n",
    "### 5. 신규 컬럼(debt)을 생성하고, 0으로 채우기\n",
    "\n",
    "### 6. debt에 0부터 값이 증가하도록 채우기\n",
    "\n",
    "### 7. 1번 인덱스의 정보 출력:iloc\n",
    "\n",
    "### 8. 3,5,8번 인덱스의 'debt'값을 12, 13, 14로 설정하기\n",
    "\n",
    "### 9. 'double bmi'열 삭제하기\n",
    "\n",
    "### 10. 'age'열, 'sex'열만 출력하기\n",
    "\n",
    "### 11. 함수 생성, 적용(apply/map)\n",
    "\n",
    "나이를 1살씩 증가시키기\n",
    "\n",
    "### 12. 함수 생성, 적용(apply/map)\n",
    "\n",
    "charges의 표시형식을 소수점 아래 2자리로 바꾸기\n",
    "\n",
    "### 13. 함수 생성, 적용(applymap)\n",
    "\n",
    "데이터프레임 전체 값을 대괄호[ ] 로 감싸기\n",
    "\n",
    "예: \t[19]\t[female]\t[27.9]\t[0]\t[yes]\t[southwest]\t[16884.924]\n",
    "\n",
    "### 14. 컬럼 정렬(알파벳 순서대로) : sort_index\n",
    "age, bmi, charges... 순으로 정렬\n",
    "\n",
    "### 15. 값 정렬(age) : sort_values\n",
    "나이 순으로 정렬\n",
    "\n",
    "### 16. 평균구하기: mean\n",
    "\n",
    "### 17. 공분산 구하기: cov\n",
    "\n",
    "### 18. 남자, 여자가 각각 몇명있는지 구하기\n",
    "\n",
    "### 19. 자녀(children)이 3명인 데이터 출력하기\n",
    "\n",
    "### 20. 자녀(children)가 5명 이상인 데이터 출력하기\n",
    "\n",
    "### 21. bmi가  17 미만인 데이터 출력하기\n",
    "\n",
    "### 22. debt가 null이 아닌데이터 출력하기\n",
    "\n",
    "### 23. 'age'가 60보다 큰 값만 출력하기\n",
    "\n"
   ]
  },
  {
   "cell_type": "code",
   "execution_count": null,
   "metadata": {},
   "outputs": [],
   "source": []
  }
 ],
 "metadata": {
  "kernelspec": {
   "display_name": "Python 3",
   "language": "python",
   "name": "python3"
  },
  "language_info": {
   "codemirror_mode": {
    "name": "ipython",
    "version": 3
   },
   "file_extension": ".py",
   "mimetype": "text/x-python",
   "name": "python",
   "nbconvert_exporter": "python",
   "pygments_lexer": "ipython3",
   "version": "3.7.6"
  },
  "toc": {
   "base_numbering": 1,
   "nav_menu": {},
   "number_sections": false,
   "sideBar": true,
   "skip_h1_title": false,
   "title_cell": "Table of Contents",
   "title_sidebar": "Contents",
   "toc_cell": false,
   "toc_position": {
    "height": "calc(100% - 180px)",
    "left": "10px",
    "top": "150px",
    "width": "299.175px"
   },
   "toc_section_display": true,
   "toc_window_display": true
  }
 },
 "nbformat": 4,
 "nbformat_minor": 1
}
